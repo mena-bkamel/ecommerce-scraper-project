{
 "cells": [
  {
   "cell_type": "markdown",
   "id": "0692da09-1284-4112-b823-1240ed338c58",
   "metadata": {},
   "source": [
    "## Import Cell:\n"
   ]
  },
  {
   "cell_type": "code",
   "execution_count": 2,
   "id": "71bcf739-e69f-4100-ad24-624af2684110",
   "metadata": {},
   "outputs": [],
   "source": [
    "from e_commerce import Amazon, Ebay, Target\n",
    "from store_data import SaveData\n",
    "from data_manipulation import PriceAnalysis"
   ]
  },
  {
   "cell_type": "markdown",
   "id": "ce206e19-e35a-4d62-bea4-085082078604",
   "metadata": {},
   "source": [
    "## Scraping Amazon and Saving Data in Headless Mode\r\n",
    "\r\n",
    "This code efficiently scrapes Amazon using headless mode and saves the data in both CSV and JSON formats. Here's a summary:\r\n",
    "\r\n",
    "1. **Instances**:\r\n",
    "   - `Amazon`: Handles Amazon scraping.\r\n",
    "   - `SaveData`: Manages saving data.\r\n",
    "\r\n",
    "2. **Process**:\r\n",
    "   - Iterates through each category in `categories`.\r\n",
    "   - Scrapes Amazon for products in the category (`scrape_amazon`).\r\n",
    "   - Saves results to a CSV file (`save_to_csv`).\r\n",
    "   - Saves results to a JSON file (`save_to_json`).\r\n",
    "\r\n",
    "3. **Output**:\r\n",
    "   - Creates both CSV and JSON files for each category.\r\n"
   ]
  },
  {
   "cell_type": "code",
   "execution_count": 29,
   "id": "b6a4832b-7c03-4213-b1bf-322be3747014",
   "metadata": {},
   "outputs": [],
   "source": [
    "categories = [\"dell laptop\", \"samsung laptop\", \"curved screen\"]"
   ]
  },
  {
   "cell_type": "code",
   "execution_count": null,
   "id": "8a0844d2-af3d-4948-b9a1-cf4f1e5a0fff",
   "metadata": {},
   "outputs": [],
   "source": [
    "amazon = Amazon()\n",
    "save_file = DataSaving()\n",
    "\n",
    "for cate in categories:\n",
    "    records = amazon.scrape_amazon(cate)\n",
    "    save_amazon_to_csv = save_file.save_to_csv(cate, amazon.header_row, records)\n",
    "    to_json = save_file.save_to_json(amazon.header_row, records, cate)\n"
   ]
  },
  {
   "cell_type": "markdown",
   "id": "6f9bba02-0c19-4f59-8777-4de213246e47",
   "metadata": {},
   "source": [
    "## Scraping eBay and Saving Data\r\n",
    "\r\n",
    "This code demonstrates scraping eBay using headless mode and saving the data in CSV and JSON formats. Here's a concise explanation:\r\n",
    "\r\n",
    "1. **Instances**:\r\n",
    "   - `Ebay`: Handles eBay scraping.\r\n",
    "   - `SaveData`: Manages saving data.\r\n",
    "\r\n",
    "2. **Process**:\r\n",
    "   - Iterates through each category in `categories`.\r\n",
    "   - Scrapes eBay for products in the category (`scrape_ebay`).\r\n",
    "   - Saves results to a CSV file (`save_to_csv`).\r\n",
    "   - Saves results to a JSON file (`save_to_json`).\r\n",
    "\r\n",
    "3. **Output**:\r\n",
    "   - Generates CSV and JSON files containing the scraped data for each category.\r\n"
   ]
  },
  {
   "cell_type": "code",
   "execution_count": null,
   "id": "69e2368d-0a5e-408f-9600-6f9e13162bcb",
   "metadata": {},
   "outputs": [],
   "source": [
    "ebay = Ebay()\n",
    "save_file = SaveData()\n",
    "\n",
    "for cate in categories:\n",
    "    records = ebay.scrape_ebay(cate)\n",
    "    save_amazon_to_csv = save_file.save_to_csv(cate, ebay.header_row, records)\n",
    "    to_json = save_file.save_to_json(ebay.header_row, records, cate)"
   ]
  },
  {
   "cell_type": "markdown",
   "id": "94bd862a-155f-4e62-8cae-8fab94397d02",
   "metadata": {},
   "source": [
    "## Scraping Target and Saving Data with Scrolling (No Headless Mode)\n",
    "\n",
    "This code demonstrates scraping the Target website, which is dynamically loaded. Since the content requires scrolling, the browser will operate in **non-headless mode** to simulate user interactions. The data is then saved in CSV and JSON formats.\n",
    "\n",
    "### Overview:\n",
    "\n",
    "1. **Instances**:\n",
    "   - `Target`: Handles scraping the Target website, including dynamic scrolling.\n",
    "   - `SaveData`: Manages saving the scraped data.\n",
    "\n",
    "2. **Process**:\n",
    "   - Iterates through each category in `categories`.\n",
    "   - Scrapes Target for products in the category (`scrape_target`), simulating scrolling to load all products.\n",
    "   - Saves the results to:\n",
    "     - A CSV file (`save_to_csv`).\n",
    "     - A JSON file (`\n"
   ]
  },
  {
   "cell_type": "code",
   "execution_count": null,
   "id": "7086ebe4-b255-4ecd-964d-6179bbf6bb1b",
   "metadata": {},
   "outputs": [],
   "source": [
    "target = Target()\n",
    "save_file = SaveData()\n",
    "\n",
    "for cate in categories:\n",
    "    records = target.scrape_target(cate)\n",
    "    save_amazon_to_csv = save_file.save_to_csv(cate, target.header_row, records)\n",
    "    to_json = save_file.save_to_json(target.header_row, records, cate)\n"
   ]
  },
  {
   "cell_type": "markdown",
   "id": "117a5a78-b40a-4b2f-b66f-671e19ac4aa1",
   "metadata": {},
   "source": [
    "## Sqlite Database:"
   ]
  },
  {
   "cell_type": "markdown",
   "id": "d82c0b19-4ad2-4792-beb2-8fbd94b49f55",
   "metadata": {},
   "source": [
    "## Scraping Amazon and Saving Data to a Database\r\n",
    "\r\n",
    "This code scrapes Amazon and saves the data into a database with the following steps:\r\n",
    "\r\n",
    "1. **Instances**:\r\n",
    "   - `Amazon`: Scrapes data from Amazon.\r\n",
    "   - `SaveData`: Handles database creation and record insertion.\r\n",
    "   - `ProductFormat`: Defines table column formats and data types.\r\n",
    "\r\n",
    "2. **Process**:\r\n",
    "   - Defines table columns (`ProductFormat`).\r\n",
    "   - Scrapes Amazon for products.\r\n",
    "   - Creates a database table and inserts the scraped data.\r\n",
    "\r\n",
    "3. **Output**:\r\n",
    "   - A database named `amazon` with tables for each category containing product data like name, price, rating, and URL.\r\n"
   ]
  },
  {
   "cell_type": "code",
   "execution_count": null,
   "id": "1b953315-ff16-49ab-8b78-cfe1e7358514",
   "metadata": {},
   "outputs": [],
   "source": [
    "amazon = Amazon()\n",
    "save_file = SaveData()\n",
    "\n",
    "product_format = ProductFormat(product_name=\"str\", price=\"int\", rating=\"str\", review_count=\"float\", url=\"text\", platform=\"text\")\n",
    "table_columns = product_format.format_columns_db()\n",
    "\n",
    "for cate in categories:\n",
    "    records = amazon.scrape_amazon(cate)\n",
    "    create_db = save_file.create_db(\"amazon\", cate, table_columns.col_definition_db)\n",
    "    save_data_db = save_file.insert_records(\"amazon\", cate, table_columns.header_row, records)\n"
   ]
  },
  {
   "cell_type": "markdown",
   "id": "061e191f-8f8e-4e03-8645-2c5948407fba",
   "metadata": {},
   "source": [
    "## Merging and Saving Price Data from Multiple Sources\n",
    "\n",
    "This code demonstrates how to merge price data from multiple CSV files and save the combined dataset. Here's how it works:\n",
    "\n",
    "1. **Instances**:\n",
    "   - `PriceAnalysis`: Handles data loading and merging.\n",
    "\n",
    "2. **Process**:\n",
    "   - Loads data from multiple CSV files (`files_list`).\n",
    "   - Merges the datasets into a single file.\n",
    "   - Saves the merged file under the name `merged_file`.\n",
    "\n",
    "3. **Output**:\n",
    "   - A single file named `merged_file` containing combined data from all sources (e.g., Amazon and eBay).\n"
   ]
  },
  {
   "cell_type": "code",
   "execution_count": 8,
   "id": "531ff402-d279-453c-973e-e2ffe45cb025",
   "metadata": {
    "scrolled": true
   },
   "outputs": [
    {
     "name": "stdout",
     "output_type": "stream",
     "text": [
      "                                         ProductName    Price  \\\n",
      "0  Inspiron 5645 Laptop - 16.0 16:10 FHD+ (1920 x...  $710.00   \n",
      "1  Inspiron 3000 Series 3520 Laptop, 15.6\" FHD To...      NaN   \n",
      "2  Inspiron 15 15.6\" Business Laptop (FHD Touchsc...      NaN   \n",
      "3  13th Generation Business Inspiron 15 3530 Lapt...      NaN   \n",
      "4  Inspiron 15 15.6\" Laptop (FHD Touchscreen, AMD...      NaN   \n",
      "5  Latitude 5330 Business Laptop (13.3\" FHD, Inte...      NaN   \n",
      "6  65W 45W OEM Charger for Dell Inspiron 14 15 16...   $16.99   \n",
      "7  14 Laptop, Intel Celeron N4020, 4 GB RAM, 64 G...      NaN   \n",
      "8  Inspiron 15 3000 3520 15.6\" FHD Touchscreen (I...      NaN   \n",
      "9  2023 Inspiron 14 5425 Laptop, 14 FHD Display, ...      NaN   \n",
      "\n",
      "               Rating ReviewCount  \\\n",
      "0  4.1 out of 5 stars         111   \n",
      "1  5.0 out of 5 stars           4   \n",
      "2  4.0 out of 5 stars          14   \n",
      "3  4.1 out of 5 stars         169   \n",
      "4  4.4 out of 5 stars          58   \n",
      "5  4.7 out of 5 stars           9   \n",
      "6  4.3 out of 5 stars          16   \n",
      "7  4.0 out of 5 stars       2,109   \n",
      "8  4.3 out of 5 stars          76   \n",
      "9  5.0 out of 5 stars           3   \n",
      "\n",
      "                                                 Url Platform SubTiltle  \\\n",
      "0  https://www.amazon.com/Dell-Inspiron-5645-Lapt...   Amazon       NaN   \n",
      "1  https://www.amazon.com/Dell-Inspiron-3520-Touc...   Amazon       NaN   \n",
      "2  https://www.amazon.com/Inspiron-Business-Touch...   Amazon       NaN   \n",
      "3  https://www.amazon.com/Dell-Generation-Inspiro...   Amazon       NaN   \n",
      "4  https://www.amazon.com/Dell-Inspiron-Touchscre...   Amazon       NaN   \n",
      "5  https://www.amazon.com/Dell-Latitude-5330-Thun...   Amazon       NaN   \n",
      "6  https://www.amazon.com/Charger-Inspiron-Latitu...   Amazon       NaN   \n",
      "7  https://www.amazon.com/HP-Micro-edge-Microsoft...   Amazon       NaN   \n",
      "8  https://www.amazon.com/Dell-Inspiron-3520-Touc...   Amazon       NaN   \n",
      "9  https://www.amazon.com/DELL-Laptop-i5-1135G7-Q...   Amazon       NaN   \n",
      "\n",
      "  trendingPrice  \n",
      "0           NaN  \n",
      "1           NaN  \n",
      "2           NaN  \n",
      "3           NaN  \n",
      "4           NaN  \n",
      "5           NaN  \n",
      "6           NaN  \n",
      "7           NaN  \n",
      "8           NaN  \n",
      "9           NaN  \n",
      "Data saved to merged_file.csv.\n"
     ]
    },
    {
     "data": {
      "text/plain": [
       "<data_manipulation.PriceAnalysis at 0x20fc4302150>"
      ]
     },
     "execution_count": 8,
     "metadata": {},
     "output_type": "execute_result"
    }
   ],
   "source": [
    "files_list = [\"dell_laptop_amazon.csv\", \"dell_laptop_ebay.csv\"]\n",
    "price_analysis = PriceAnalysis()\n",
    "merged_file = price_analysis.load_data(files_list)\n",
    "merged_file.save(\"merged_file\")"
   ]
  },
  {
   "cell_type": "code",
   "execution_count": null,
   "id": "ecb70c4a-84bd-48db-b6f1-7aa3ae7e939d",
   "metadata": {},
   "outputs": [],
   "source": []
  }
 ],
 "metadata": {
  "kernelspec": {
   "display_name": "Python 3 (ipykernel)",
   "language": "python",
   "name": "python3"
  },
  "language_info": {
   "codemirror_mode": {
    "name": "ipython",
    "version": 3
   },
   "file_extension": ".py",
   "mimetype": "text/x-python",
   "name": "python",
   "nbconvert_exporter": "python",
   "pygments_lexer": "ipython3",
   "version": "3.11.3"
  }
 },
 "nbformat": 4,
 "nbformat_minor": 5
}
